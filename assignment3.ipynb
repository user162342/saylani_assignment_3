{
 "cells": [
  {
   "cell_type": "markdown",
   "metadata": {},
   "source": [
    "#Q1 "
   ]
  },
  {
   "cell_type": "code",
   "execution_count": null,
   "metadata": {},
   "outputs": [],
   "source": [
    "print(\"Welcome to the Discount Eligibility Check Program!\")\n",
    "try:\n",
    "    userinput = float(input(\"What was your total purchase amount? \"))\n",
    "    if userinput > 100:\n",
    "        discountedrate = userinput - (userinput * 0.10)  # Apply 10% discount\n",
    "        print(f\"Congratulations! Your amount after a 10% discount is: ${discountedrate:.2f}\")\n",
    "    else:\n",
    "        print(f\"No discount applied. Your total amount is: ${userinput}\")\n",
    "\n",
    "except ValueError:\n",
    "    print(\"Invalid input! Please enter a valid numeric value.\")\n"
   ]
  },
  {
   "cell_type": "markdown",
   "metadata": {},
   "source": [
    "#Q2"
   ]
  },
  {
   "cell_type": "code",
   "execution_count": null,
   "metadata": {},
   "outputs": [],
   "source": [
    "print(\"Welcome to the Discount Eligibility Check Program!\")\n",
    "try:\n",
    "    userinput = float(input(\"How many products did you purchase? \"))\n",
    "    userinput2 = float(input(\"What was your total amount of purchase? \"))\n",
    "    if userinput > 5:\n",
    "        discountedrate = userinput2 - (userinput2 * 0.15)  # 15% discount\n",
    "        print(f\"You purchased more than 5 products! Your amount after a 15% discount is: ${discountedrate:.2f}\")\n",
    "    else:\n",
    "        print(f\"You purchased 5 or fewer products. No discount applied. Your total amount is: ${userinput2:.2f}\")\n",
    "except ValueError:\n",
    "    print(\"Invalid input! Please enter valid numeric values.\")\n"
   ]
  },
  {
   "cell_type": "markdown",
   "metadata": {},
   "source": [
    "#Q3 "
   ]
  },
  {
   "cell_type": "code",
   "execution_count": null,
   "metadata": {},
   "outputs": [],
   "source": [
    "print(\"Welcome to the Membership Discount Eligibility Check Program for Food Items!\")\n",
    "userinput = input(\"Are you a member? (Type 'y' for Yes or 'n' for No): \").lower()\n",
    "try:\n",
    "    userinput2 = float(input(\"What was your total amount of purchase? \"))\n",
    "    if userinput == \"y\":\n",
    "        discountedrate = userinput2 - (userinput2 * 0.20) \n",
    "        print(f\"Thank you for being a member! Your amount after a 20% discount is: ${discountedrate:.2f}\")\n",
    "    elif userinput == \"n\":\n",
    "        discountedrate = userinput2 - (userinput2 * 0.05) \n",
    "        print(f\"Your amount after a 5% discount is: ${discountedrate}\")\n",
    "    else:\n",
    "        print(\"Invalid input! Please type 'y' for Yes or 'n' for No.\")\n",
    "except ValueError:\n",
    "    print(\"Invalid input! Please enter a valid numeric value for the total purchase amount.\")\n"
   ]
  },
  {
   "cell_type": "markdown",
   "metadata": {},
   "source": [
    "#Q4 "
   ]
  },
  {
   "cell_type": "code",
   "execution_count": null,
   "metadata": {},
   "outputs": [],
   "source": [
    "print(\"Welcome to the Discount Eligibility Check Program for products!\")\n",
    "userinput = input(\"Is it a holiday today (note: only saturday and sunday count as holidays) Please type 'y' for Yes or 'n' for No.\").lower()\n",
    "try:\n",
    "    userinput2 = float(input(\"What was your total amount of purchase? \"))\n",
    "    if userinput == \"y\":\n",
    "        discountedrate = userinput2 - (userinput2 * 0.25) \n",
    "        print(f\"Thank you for being a member! Your amount after a 20% discount is: ${discountedrate}\")\n",
    "    elif userinput == \"n\":\n",
    "        discountedrate = userinput2 - (userinput2 * 0.10) \n",
    "        print(f\"Your amount after a 5% discount is: ${discountedrate}\")\n",
    "    else:\n",
    "        print(\"Invalid input! Please type 'y' for Yes or 'n' for No.\")\n",
    "except ValueError:\n",
    "    print(\"Invalid input! Please enter a valid numeric value for the total purchase amount.\")\n"
   ]
  },
  {
   "cell_type": "markdown",
   "metadata": {},
   "source": [
    "#Q5 \n"
   ]
  },
  {
   "cell_type": "code",
   "execution_count": null,
   "metadata": {},
   "outputs": [],
   "source": [
    "print(\"Welcome to the Discount Eligibility Check Program for products on the offer by one get one free!\")\n",
    "userinput = int(input(\"type in the number of products you bought\"))\n",
    "try:\n",
    "    userinput2 = float(input(\"What was your total amount of purchase? \"))\n",
    "    if userinput%2 == 0 :\n",
    "        discountedrate = userinput2 - (userinput2 * 0.50) \n",
    "        print(f\"Your amount after a 50% discount is: ${discountedrate}\")\n",
    "    else:\n",
    "        print(f\"Your have to pay all ${userinput2}\")\n",
    "except ValueError:\n",
    "    print(\"Invalid input! Please enter a valid numeric value for the total purchase amount.\")\n"
   ]
  },
  {
   "cell_type": "markdown",
   "metadata": {},
   "source": [
    "#Q6 \n"
   ]
  },
  {
   "cell_type": "code",
   "execution_count": null,
   "metadata": {},
   "outputs": [],
   "source": [
    "print(\"Welcome to the tax Eligibility Check Program on products\")\n",
    "try:\n",
    "    userinput = int(input(\"type in the amount of the product you bought in dollars\"))\n",
    "    luxury_tax = userinput * 0.15\n",
    "    standard_tax = userinput * 0.08\n",
    "    if userinput >= 500:\n",
    "        userinput += luxury_tax \n",
    "        print(f\"you have to pay {userinput} because of luxury tax\")\n",
    "    else:\n",
    "        userinput += standard_tax\n",
    "        print(f\"you have to pay {userinput} because of standard tax\")\n",
    "        \n",
    "except ValueError:\n",
    "    print(\"Invalid value! Please enter a valid numeric value for the total purchase amount.\")"
   ]
  },
  {
   "cell_type": "markdown",
   "metadata": {},
   "source": [
    "#Q7\n"
   ]
  },
  {
   "cell_type": "code",
   "execution_count": null,
   "metadata": {},
   "outputs": [],
   "source": [
    "print(\"Welcome to the tax Eligibility Check Program on a person accoridng to there annual income\")\n",
    "try:\n",
    "    userinput = int(input(\"type in your annual income\"))\n",
    "    highIncome = userinput * 0.20\n",
    "    lowIncome = userinput * 0.10\n",
    "    if userinput >= 50000:\n",
    "        print(f\"you have to pay {highIncome} because of luxury tax\")\n",
    "    else:\n",
    "        print(f\"you have to pay {lowIncome} because of standard tax\")\n",
    "        \n",
    "except ValueError:\n",
    "    print(\"Invalid value! Please enter a valid numeric value for the total purchase amount.\")"
   ]
  },
  {
   "cell_type": "markdown",
   "metadata": {},
   "source": [
    "#Q8 \n"
   ]
  },
  {
   "cell_type": "code",
   "execution_count": null,
   "metadata": {},
   "outputs": [],
   "source": [
    "print(\"Welcome to the tax Eligibility Check Program on a person accoridng to there annual income\")\n",
    "try:\n",
    "    userinput = int(input(\"type in your annual income\"))\n",
    "    if userinput < 30000:\n",
    "        print(\"you are required to pay a lower tax\")\n",
    "    elif userinput > 30000 and userinput < 100000:\n",
    "        print(\"you are required to pay a medium tax\")\n",
    "    elif userinput >= 100000:\n",
    "        print(\"you are required to pay a high tax\")\n",
    "except ValueError:\n",
    "    print(\"Invalid value! Please enter a valid numeric value for the total purchase amount.\")"
   ]
  },
  {
   "cell_type": "markdown",
   "metadata": {},
   "source": [
    "#Q9 \n"
   ]
  },
  {
   "cell_type": "code",
   "execution_count": null,
   "metadata": {},
   "outputs": [],
   "source": [
    "print(\"Welcome to the VAT Calculation Program!\")\n",
    "try:\n",
    "    item_price = float(input(\"Enter the price of the item: $\"))\n",
    "    is_essential = input(\"Is the item essential? (yes or no): \").strip().lower()\n",
    "    if is_essential == \"yes\":\n",
    "        vat_rate = 0.05  \n",
    "        vat_amount = item_price * vat_rate\n",
    "        final_price = item_price + vat_amount\n",
    "        print(f\"The VAT rate applied is {vat_rate * 100:.0f}%.\")\n",
    "        print(f\"The final price of the item is: ${final_price:.2f}\")\n",
    "    elif is_essential == \"no\":\n",
    "        vat_rate = 0.12 \n",
    "        vat_amount = item_price * vat_rate\n",
    "        final_price = item_price + vat_amount\n",
    "        print(f\"The VAT rate applied is {vat_rate * 100:.0f}%.\")\n",
    "        print(f\"The final price of the item is: ${final_price:.2f}\")\n",
    "\n",
    "    else:\n",
    "        print(\"Invalid input for essentiwal status. Please type 'yes' or 'no'.\")\n",
    "except ValueError:\n",
    "    print(\"Invalid input! Please enter a numeric value for the price.\")\n"
   ]
  },
  {
   "cell_type": "markdown",
   "metadata": {},
   "source": [
    "#Q10 \n"
   ]
  },
  {
   "cell_type": "code",
   "execution_count": null,
   "metadata": {},
   "outputs": [],
   "source": [
    "print(\"Welcome to the tax Check Program on a person on a tax free day or a normal day\")\n",
    "userinput2 = int(input(\"what was the amount you paid\"))\n",
    "try:\n",
    "    userinput = input(\"Is it a tax free day? (Type 'y' for Yes or 'n' for No): \").lower()\n",
    "    if userinput == \"y\":\n",
    "        print(\"You are tax free today enjoy!\")\n",
    "    elif userinput == \"n\":\n",
    "        taxapplied = userinput2 * 0.07\n",
    "        print(f\"you have to pay an additional amount {userinput2 + taxapplied} due to 7% tax \")\n",
    "    else:\n",
    "        print(\"Invalid input! Please type 'y' for Yes or 'n' for No.\")\n",
    "except ValueError:\n",
    "    print(\"Invalid input! Please enter a valid numeric value for the total purchase amount.\")\n"
   ]
  },
  {
   "cell_type": "markdown",
   "metadata": {},
   "source": [
    "#Q11\n"
   ]
  },
  {
   "cell_type": "code",
   "execution_count": null,
   "metadata": {},
   "outputs": [],
   "source": [
    "print(\"Welcome to the shipping charges checking program\")\n",
    "try:\n",
    "    userinput2 = int(input(\"What was the amount you paid? $\"))\n",
    "    if userinput2 > 50:\n",
    "        print(\"You won't have to pay shipping charges. Enjoy!\")\n",
    "    else:\n",
    "        shipping_charge = 5\n",
    "        final_amount = userinput2 + shipping_charge\n",
    "        print(f\"You have to pay ${final_amount} due to an extra $5 shipping charge.\")\n",
    "except ValueError:\n",
    "    print(\"Invalid input! Please enter a valid numeric value for the total purchase amount.\")\n"
   ]
  },
  {
   "cell_type": "markdown",
   "metadata": {},
   "source": [
    "#Q12\n"
   ]
  },
  {
   "cell_type": "code",
   "execution_count": null,
   "metadata": {},
   "outputs": [],
   "source": [
    "print(\"Welcome to the diconut code checking program\")\n",
    "userinput = input(\"Write the discount code: (DISCOUNT10) to get a 10% discount\")\n",
    "try:\n",
    "    userinput2 = int(input(\"What was the amount you paid? $\"))\n",
    "    if userinput == \"DISCOUNT10\":\n",
    "        ratewithdiscount = userinput2 * 0.10\n",
    "        print(f'your amount after discount is {userinput2 - ratewithdiscount}')\n",
    "    else:\n",
    "        print(f\"You have to pay the full amount which is {userinput2}\")\n",
    "except ValueError:\n",
    "    print(\"Invalid input! Please enter a valid numeric value for the total purchase amount.\")\n"
   ]
  },
  {
   "cell_type": "markdown",
   "metadata": {},
   "source": [
    "#Q13\n"
   ]
  },
  {
   "cell_type": "code",
   "execution_count": null,
   "metadata": {},
   "outputs": [],
   "source": [
    "print(\"Welcome to the Discount Code Checking Program!\")\n",
    "try:\n",
    "    userinput = float(input(\"What was the amount you paid? $\"))\n",
    "    if 0 <= userinput < 50:\n",
    "        print(f\"You have to pay the full amount, which is ${userinput:.2f}.\")\n",
    "    elif 50 <= userinput < 100:\n",
    "        discount = userinput * 0.10\n",
    "        final_amount = userinput - discount\n",
    "        print(f\"Your amount after a 10% discount is ${final_amount:.2f}.\")\n",
    "    else:\n",
    "        discount = userinput * 0.20\n",
    "        final_amount = userinput - discount\n",
    "        print(f\"Your amount after a 20% discount is ${final_amount:.2f}.\")\n",
    "except ValueError:\n",
    "    print(\"Invalid input! Please enter a valid numeric value for the total purchase amount.\")\n"
   ]
  },
  {
   "cell_type": "markdown",
   "metadata": {},
   "source": [
    "#Q14 "
   ]
  },
  {
   "cell_type": "code",
   "execution_count": null,
   "metadata": {},
   "outputs": [],
   "source": [
    "print(\"Welcome to the minimum purchase requirement checking program\")\n",
    "try:\n",
    "    userinput = int(input(\"What was the amount you paid? $\"))\n",
    "    if userinput < 20:\n",
    "        print(f\"The minimum purchase requirement is $20\")\n",
    "    else:\n",
    "        print(f'you are to pay {userinput}')\n",
    "except ValueError:\n",
    "    print(\"Invalid input! Please enter a valid numeric value for the total purchase amount.\")\n"
   ]
  },
  {
   "cell_type": "markdown",
   "metadata": {},
   "source": [
    "#Q15\n"
   ]
  },
  {
   "cell_type": "code",
   "execution_count": null,
   "metadata": {},
   "outputs": [],
   "source": [
    "print(\"Welcome to the Loyalty Points Calculation Program\")\n",
    "loyalty_points = 100\n",
    "standard_points = 50\n",
    "try:\n",
    "    is_loyal = input(\"Are you a loyal member? (yes or no): \").strip().lower()\n",
    "    if is_loyal == \"yes\":\n",
    "        print(f\"You earn {loyalty_points} loyalty points!\")\n",
    "    elif is_loyal == \"no\":\n",
    "        print(f\"You earn {standard_points} loyalty points.\")\n",
    "    else:\n",
    "        print(\"Invalid input! Please enter 'yes' or 'no'.\")\n",
    "except ValueError:\n",
    "    print(\"An error occurred! Please try again.\")\n"
   ]
  },
  {
   "cell_type": "markdown",
   "metadata": {},
   "source": [
    "#Q16 \n"
   ]
  },
  {
   "cell_type": "code",
   "execution_count": null,
   "metadata": {},
   "outputs": [],
   "source": [
    "print(\"Welcome to the Travel Discount Program\")\n",
    "try:\n",
    "    distance = float(input(\"Enter the travel distance in miles: \"))\n",
    "    ticket_price = float(input(\"Enter the ticket price: $\"))\n",
    "    if distance > 500:\n",
    "        discounted_price = ticket_price * 0.80\n",
    "        print(f\"Your discounted ticket price is ${discounted_price}.\")\n",
    "    else:\n",
    "        print(f\"The full ticket price is ${ticket_price}.\")\n",
    "except ValueError:\n",
    "    print(\"Invalid input! Please enter numeric values.\")\n"
   ]
  },
  {
   "cell_type": "markdown",
   "metadata": {},
   "source": [
    "#Q17 "
   ]
  },
  {
   "cell_type": "code",
   "execution_count": null,
   "metadata": {},
   "outputs": [],
   "source": [
    "print(\"Welcome to the Child or Senior Discount Program\")\n",
    "try:\n",
    "    age = int(input(\"Enter the passenger's age: \"))\n",
    "    ticket_price = float(input(\"Enter the ticket price: $\"))\n",
    "    if age < 12 or age > 60:\n",
    "        discounted_price = ticket_price * 0.85\n",
    "        print(f\"Your discounted ticket price is ${discounted_price}.\")\n",
    "    else:\n",
    "        print(f\"The full ticket price is ${ticket_price}.\")\n",
    "except ValueError:\n",
    "    print(\"Invalid input! Please enter numeric values.\")\n"
   ]
  },
  {
   "cell_type": "markdown",
   "metadata": {},
   "source": [
    "#Q18 \n"
   ]
  },
  {
   "cell_type": "code",
   "execution_count": null,
   "metadata": {},
   "outputs": [],
   "source": [
    "print(\"Welcome to the Ticket Type Pricing Program\")\n",
    "try:\n",
    "    is_weekend = input(\"Is it a weekend ticket? (yes or no): \").strip().lower()\n",
    "    ticket_price = float(input(\"Enter the ticket price: $\"))\n",
    "    if is_weekend == \"yes\":\n",
    "        final_price = ticket_price * 1.10\n",
    "        print(f\"The final ticket price with a weekend surcharge is ${final_price}.\")\n",
    "    elif is_weekend == \"no\":\n",
    "        print(f\"The ticket price remains ${ticket_price}.\")\n",
    "    else:\n",
    "        print(\"Invalid input! Please enter 'yes' or 'no'.\")\n",
    "except ValueError:\n",
    "    print(\"Invalid input! Please enter numeric values.\")\n"
   ]
  },
  {
   "cell_type": "markdown",
   "metadata": {},
   "source": [
    "#Q19 \n"
   ]
  },
  {
   "cell_type": "code",
   "execution_count": null,
   "metadata": {},
   "outputs": [],
   "source": [
    "print(\"Welcome to the Baggage Fee Calculation Program\")\n",
    "try:\n",
    "    weight = float(input(\"Enter the total baggage weight in kg: \"))\n",
    "    if weight > 20:\n",
    "        extra_weight = weight - 20\n",
    "        extra_fee = extra_weight * 10\n",
    "        print(f\"The baggage fee for {extra_weight}kg extra is ${extra_fee}.\")\n",
    "    else:\n",
    "        print(\"No extra baggage fee required.\")\n",
    "except ValueError:\n",
    "    print(\"Invalid input! Please enter a numeric value for weight.\")\n"
   ]
  },
  {
   "cell_type": "markdown",
   "metadata": {},
   "source": [
    "#Q20 \n"
   ]
  },
  {
   "cell_type": "code",
   "execution_count": null,
   "metadata": {},
   "outputs": [],
   "source": [
    "print(\"Welcome to the Early Bird Discount Program\")\n",
    "try:\n",
    "    days_in_advance = int(input(\"How many days in advance is the ticket booked? \"))\n",
    "    ticket_price = float(input(\"Enter the ticket price: $\"))\n",
    "    if days_in_advance > 30:\n",
    "        discounted_price = ticket_price * 0.90\n",
    "        print(f\"Your ticket price with an early bird discount is ${discounted_price}.\")\n",
    "    else:\n",
    "        print(f\"The full ticket price is ${ticket_price}.\")\n",
    "except ValueError:\n",
    "    print(\"Invalid input! Please enter numeric values.\")\n"
   ]
  },
  {
   "cell_type": "markdown",
   "metadata": {},
   "source": [
    "Q21"
   ]
  },
  {
   "cell_type": "code",
   "execution_count": null,
   "metadata": {},
   "outputs": [],
   "source": [
    "print(\"Welcome to the Pass/Fail Program\")\n",
    "try:\n",
    "    score = float(input(\"Enter the student's score: \"))\n",
    "    if score >= 40:\n",
    "        print(\"Pass\")\n",
    "    else:\n",
    "        print(\"Fail\")\n",
    "except ValueError:\n",
    "    print(\"Invalid input! Please enter a numeric value.\")\n"
   ]
  },
  {
   "cell_type": "markdown",
   "metadata": {},
   "source": [
    "Q22"
   ]
  },
  {
   "cell_type": "code",
   "execution_count": null,
   "metadata": {},
   "outputs": [],
   "source": [
    "print(\"Welcome to the Grade Assignment Program\")\n",
    "try:\n",
    "    score = float(input(\"Enter the student's score: \"))\n",
    "    if score >= 90:\n",
    "        grade = \"A\"\n",
    "    elif 75 <= score < 90:\n",
    "        grade = \"B\"\n",
    "    elif 50 <= score < 75:\n",
    "        grade = \"C\"\n",
    "    else:\n",
    "        grade = \"F\"\n",
    "    print(f\"The student's grade is {grade}.\")\n",
    "except ValueError:\n",
    "    print(\"Invalid input! Please enter a numeric value.\")\n"
   ]
  },
  {
   "cell_type": "markdown",
   "metadata": {},
   "source": [
    "Q23"
   ]
  },
  {
   "cell_type": "code",
   "execution_count": null,
   "metadata": {},
   "outputs": [],
   "source": [
    "print(\"Welcome to the Bonus Marks Program\")\n",
    "try:\n",
    "    score = float(input(\"Enter the student's score: \"))\n",
    "    completed_assignments = input(\"Has the student completed all assignments? (yes or no): \").strip().lower()\n",
    "    if completed_assignments == \"yes\":\n",
    "        score += 5\n",
    "        print(f\"The student's final score after bonus marks is {score}.\")\n",
    "    elif completed_assignments == \"no\":\n",
    "        print(f\"The student's score remains {score}.\")\n",
    "    else:\n",
    "        print(\"Invalid input! Please enter 'yes' or 'no'.\")\n",
    "except ValueError:\n",
    "    print(\"Invalid input! Please enter numeric values.\")\n",
    "    "
   ]
  },
  {
   "cell_type": "markdown",
   "metadata": {},
   "source": [
    "Q24"
   ]
  },
  {
   "cell_type": "code",
   "execution_count": null,
   "metadata": {},
   "outputs": [],
   "source": [
    "print(\"Welcome to the Attendance Eligibility Program\")\n",
    "try:\n",
    "    attendance = float(input(\"Enter the student's attendance percentage: \"))\n",
    "    if attendance >= 75:\n",
    "        print(\"The student is eligible to take the exam.\")\n",
    "    else:\n",
    "        print(\"The student is not eligible to take the exam.\")\n",
    "except ValueError:\n",
    "    print(\"Invalid input! Please enter a numeric value.\")\n"
   ]
  },
  {
   "cell_type": "markdown",
   "metadata": {},
   "source": [
    "Q25"
   ]
  },
  {
   "cell_type": "code",
   "execution_count": null,
   "metadata": {},
   "outputs": [],
   "source": [
    "print(\"Welcome to the Scholarship Eligibility Program\")\n",
    "try:\n",
    "    grade = input(\"Enter the student's grade (A, B, C, F): \").strip().upper()\n",
    "    family_income = float(input(\"Enter the family's annual income: $\"))\n",
    "    if grade == \"A\" and family_income < 30000:\n",
    "        print(\"The student is eligible for a scholarship.\")\n",
    "    else:\n",
    "        print(\"The student is not eligible for a scholarship.\")\n",
    "except ValueError:\n",
    "    print(\"Invalid input! Please enter numeric values.\")\n"
   ]
  }
 ],
 "metadata": {
  "kernelspec": {
   "display_name": "base",
   "language": "python",
   "name": "python3"
  },
  "language_info": {
   "codemirror_mode": {
    "name": "ipython",
    "version": 3
   },
   "file_extension": ".py",
   "mimetype": "text/x-python",
   "name": "python",
   "nbconvert_exporter": "python",
   "pygments_lexer": "ipython3",
   "version": "3.12.7"
  }
 },
 "nbformat": 4,
 "nbformat_minor": 2
}
